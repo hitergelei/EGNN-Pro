{
 "cells": [
  {
   "cell_type": "code",
   "execution_count": 1,
   "metadata": {},
   "outputs": [],
   "source": [
    "import torch, sys, os\n",
    "from torch.nn import Module, Linear, SiLU, Embedding\n",
    "from torch_geometric.nn.conv import MessagePassing\n",
    "from torch_geometric.nn import global_add_pool\n",
    "sys.path.append(os.path.abspath('/Users/samharshe/Documents/Gerstein Lab/EGNN Pro/src/data/get'))\n",
    "from data_get_utils import get_dataset, get_dataloaders\n",
    "from model_utils import bessel_rbf, cosine_cutoff, sanity_check"
   ]
  },
  {
   "cell_type": "code",
   "execution_count": 2,
   "metadata": {},
   "outputs": [
    {
     "name": "stderr",
     "output_type": "stream",
     "text": [
      "/usr/local/Caskroom/miniconda/base/envs/GDL/lib/python3.11/site-packages/torch_geometric/data/dataset.py:239: UserWarning: The `pre_transform` argument differs from the one used in the pre-processed version of this dataset. If you want to make use of another pre-processing technique, pass `force_reload=True` explicitly to reload the dataset.\n",
      "  warnings.warn(\n"
     ]
    }
   ],
   "source": [
    "dataset = get_dataset(version='apricot', molecule='benzene')\n",
    "dataloader, _, _ = get_dataloaders(version='apricot', molecule='benzene', train_split=0.01, val_split=0.98, test_split=0.01, batch_size=32)\n",
    "data = dataset[0]"
   ]
  },
  {
   "cell_type": "code",
   "execution_count": 3,
   "metadata": {},
   "outputs": [],
   "source": [
    "class PAINNPrediction(Module):\n",
    "    def __init__(self):\n",
    "        super().__init__()\n",
    "        \n",
    "        self.linear_1 = Linear(128, 128)\n",
    "        self.linear_2 = Linear(128, 1)\n",
    "        \n",
    "        self.act = SiLU()\n",
    "        \n",
    "    def forward(self, x, data, pos):\n",
    "        s = x[:, int(x.shape[1]*0.75):]\n",
    "        \n",
    "        s = self.linear_1(s)\n",
    "        s = self.act(s)\n",
    "        s = self.linear_2(s)\n",
    "        \n",
    "        E_hat = global_add_pool(s, data.batch)\n",
    "        \n",
    "        F_hat = -torch.autograd.grad(E_hat.sum(), pos, retain_graph=True)[0]\n",
    "        \n",
    "        return E_hat, F_hat"
   ]
  },
  {
   "cell_type": "code",
   "execution_count": 4,
   "metadata": {},
   "outputs": [],
   "source": [
    "class PAINNMessage(MessagePassing):\n",
    "    def __init__(self):\n",
    "        super().__init__()\n",
    "        \n",
    "        self.act = SiLU()\n",
    "        \n",
    "        self.linear_1 = Linear(128,128)\n",
    "        self.linear_2 = Linear(20,384)\n",
    "        self.linear_3 = Linear(128,384)\n",
    "        \n",
    "    def forward(self, x, edge_index, edge_attr1, edge_attr2):\n",
    "        x = self.propagate(x=x, edge_index=edge_index, edge_attr1=edge_attr1, edge_attr2=edge_attr2)\n",
    "        \n",
    "        return x\n",
    "        \n",
    "    def message(self, x_j, edge_index, edge_attr1, edge_attr2):\n",
    "        v_j = x_j[:,:int(x_j.shape[1] * 0.75)]\n",
    "        s_j = x_j[:,int(x_j.shape[1] * 0.75):]\n",
    "        \n",
    "        s_j = self.linear_1(s_j)\n",
    "        s_j = self.act(s_j)\n",
    "        s_j = self.linear_3(s_j)\n",
    "        \n",
    "        unit_edge_vec = edge_attr1\n",
    "        edge_vec_length = edge_attr2.view(-1,1)\n",
    "        \n",
    "        edge_basis = bessel_rbf(x=edge_vec_length, n=20, r_cut=1.4415) * cosine_cutoff(x=edge_vec_length, r_cut=1.4415)\n",
    "        edge_basis = self.linear_2(edge_basis)\n",
    "        \n",
    "        split = s_j * edge_basis\n",
    "        even_third = int(split.shape[1]/3)\n",
    "        split_1 = split[:, :even_third]\n",
    "        split_2 = split[:, even_third:-even_third]\n",
    "        split_3 = split[:, -even_third:]\n",
    "        \n",
    "        split_1.unsqueeze_(dim=2)\n",
    "        \n",
    "        v_j = v_j.view(-1,128,3)\n",
    "        v_j = v_j * split_1\n",
    "        \n",
    "        v_j += torch.einsum('ni,nj->nij', split_3, unit_edge_vec)\n",
    "        \n",
    "        s_j = split_2\n",
    "        \n",
    "        out = torch.cat((v_j.view(v_j.size(0), -1), s_j), dim=1)\n",
    "        \n",
    "        return out\n",
    "        \n",
    "    def update(self, aggr_out, x):\n",
    "        x += aggr_out\n",
    "        \n",
    "        return x"
   ]
  },
  {
   "cell_type": "code",
   "execution_count": 5,
   "metadata": {},
   "outputs": [],
   "source": [
    "class PAINNUpdate(MessagePassing):\n",
    "    def __init__(self):\n",
    "        super().__init__()\n",
    "        \n",
    "        self.act = SiLU()\n",
    "        \n",
    "        self.U = Linear(128,128,bias=False)\n",
    "        self.V = Linear(128,128,bias=False)\n",
    "        \n",
    "        self.linear_1 = Linear(256,128)\n",
    "        self.linear_2 = Linear(128,384)\n",
    "    \n",
    "    def forward(self, x, edge_index):\n",
    "        x = self.propagate(x=x, edge_index=edge_index)\n",
    "        \n",
    "        return x\n",
    "        \n",
    "    def message(self, x_j):\n",
    "        v = x_j[:,:int(x_j.shape[1] * 0.75)]\n",
    "        s = x_j[:,int(x_j.shape[1] * 0.75):]\n",
    "        \n",
    "        v = v.view(v.shape[0],3,128)\n",
    "        v = self.U(v)\n",
    "        v_V = self.V(v)\n",
    "        v = v.view(v.shape[0],128,3)\n",
    "        v_V = v_V.view(v_V.shape[0],128,3)\n",
    "        \n",
    "        stack_in = torch.norm(v_V, p=2, dim=2)\n",
    "        \n",
    "        stack = torch.cat((stack_in, s), dim=1)\n",
    "        \n",
    "        s = self.linear_1(stack)\n",
    "        s = self.act(s)\n",
    "        split = self.linear_2(s)\n",
    "        \n",
    "        even_third = int(split.shape[1]/3)\n",
    "        split_1 = split[:,:even_third]    \n",
    "        split_2 = split[:,even_third:-even_third]\n",
    "        split_3 = split[:,-even_third:]\n",
    "        \n",
    "        v_V = torch.inner(v, v_V)\n",
    "        v = v * split_1\n",
    "        v_v = v_V * split_2\n",
    "        v_V = v_V + split_3\n",
    "        \n",
    "        x = torch.cat(v.view(v.shape[0], -1), v_V)\n",
    "        \n",
    "        return x\n",
    "    \n",
    "    def update(self, aggr_out, x):\n",
    "        x += aggr_out\n",
    "    \n",
    "        return x"
   ]
  },
  {
   "cell_type": "code",
   "execution_count": 6,
   "metadata": {},
   "outputs": [],
   "source": [
    "class PAINNBlock(Module):\n",
    "    def __init__(self):\n",
    "        super().__init__()\n",
    "        \n",
    "        self.message = PAINNMessage()\n",
    "        self.update = PAINNUpdate()\n",
    "    \n",
    "    def forward(self, x, edge_index, edge_attr1, edge_attr2):\n",
    "        x = self.message(x, edge_index, edge_attr1, edge_attr2)\n",
    "        x = self.update(x, edge_index)\n",
    "        \n",
    "        return x"
   ]
  },
  {
   "cell_type": "code",
   "execution_count": 7,
   "metadata": {},
   "outputs": [],
   "source": [
    "class PAINN(Module):\n",
    "    def __init__(self):\n",
    "        super().__init__()\n",
    "        \n",
    "        self.embedding = Embedding(118,128)\n",
    "        self.block_1 = PAINNBlock()\n",
    "        self.block_2 = PAINNBlock()\n",
    "        self.block_3 = PAINNBlock()\n",
    "        self.prediction = PAINNPrediction()\n",
    "    \n",
    "    def forward(self, data):\n",
    "        edge_index = data.edge_index\n",
    "        pos = data.pos\n",
    "        pos.requires_grad_(True)\n",
    "        \n",
    "        idx1 = edge_index[0]\n",
    "        idx2 = edge_index[1]\n",
    "        edge_vec = data.pos[idx1] - data.pos[idx2]\n",
    "        edge_vec_length = torch.norm(edge_vec, dim=1)\n",
    "        unit_edge_vec = torch.div(edge_vec, edge_vec_length.view(-1,1))\n",
    "        \n",
    "        v = torch.zeros(data.num_nodes, 128, 3)\n",
    "        s = self.embedding(data.z)\n",
    "        \n",
    "        x = torch.cat((v.view(v.shape[0], -1), s), dim=1)\n",
    "        \n",
    "        x = self.block_1(x=x, edge_index=edge_index, edge_attr1=unit_edge_vec, edge_attr2=edge_vec_length)\n",
    "        x = self.block_2(x=x, edge_index=edge_index, edge_attr1=unit_edge_vec, edge_attr2=edge_vec_length)\n",
    "        x = self.block_3(x=x, edge_index=edge_index, edge_attr1=unit_edge_vec, edge_attr2=edge_vec_length)\n",
    "        \n",
    "        F_hat, E_hat = self.prediction(x, data, pos)\n",
    "        \n",
    "        return F_hat, E_hat"
   ]
  },
  {
   "cell_type": "code",
   "execution_count": 8,
   "metadata": {},
   "outputs": [
    {
     "ename": "",
     "evalue": "",
     "output_type": "error",
     "traceback": [
      "\u001b[1;31mThe Kernel crashed while executing code in the current cell or a previous cell. \n",
      "\u001b[1;31mPlease review the code in the cell(s) to identify a possible cause of the failure. \n",
      "\u001b[1;31mClick <a href='https://aka.ms/vscodeJupyterKernelCrash'>here</a> for more info. \n",
      "\u001b[1;31mView Jupyter <a href='command:jupyter.viewOutput'>log</a> for further details."
     ]
    }
   ],
   "source": [
    "model = PAINN()"
   ]
  },
  {
   "cell_type": "code",
   "execution_count": 9,
   "metadata": {},
   "outputs": [],
   "source": [
    "sanity_check(model, batch_size=8)"
   ]
  }
 ],
 "metadata": {
  "kernelspec": {
   "display_name": "GDL",
   "language": "python",
   "name": "python3"
  },
  "language_info": {
   "codemirror_mode": {
    "name": "ipython",
    "version": 3
   },
   "file_extension": ".py",
   "mimetype": "text/x-python",
   "name": "python",
   "nbconvert_exporter": "python",
   "pygments_lexer": "ipython3",
   "version": "3.11.9"
  }
 },
 "nbformat": 4,
 "nbformat_minor": 2
}
