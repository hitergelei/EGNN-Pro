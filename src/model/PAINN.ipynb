{
 "cells": [
  {
   "cell_type": "code",
   "execution_count": 58,
   "metadata": {},
   "outputs": [],
   "source": [
    "import torch, sys, os\n",
    "from torch.nn import Module, Linear, SiLU, Embedding\n",
    "from torch_geometric.nn.conv import MessagePassing\n",
    "from torch_geometric.nn import global_add_pool\n",
    "sys.path.append(os.path.abspath('/Users/samharshe/Documents/Gerstein Lab/EGNN Pro/src/data/get'))\n",
    "from data_get_utils import get_dataset, get_dataloaders\n",
    "from model_utils import bessel_rbf, cosine_cutoff, sanity_check"
   ]
  },
  {
   "cell_type": "code",
   "execution_count": 59,
   "metadata": {},
   "outputs": [
    {
     "name": "stderr",
     "output_type": "stream",
     "text": [
      "/usr/local/Caskroom/miniconda/base/envs/GDL/lib/python3.11/site-packages/torch_geometric/data/dataset.py:239: UserWarning: The `pre_transform` argument differs from the one used in the pre-processed version of this dataset. If you want to make use of another pre-processing technique, pass `force_reload=True` explicitly to reload the dataset.\n",
      "  warnings.warn(\n"
     ]
    }
   ],
   "source": [
    "dataset = get_dataset(version='charizard', molecule='benzene')\n",
    "dataloader, _, _ = get_dataloaders(version='charizard', molecule='benzene', train_split=0.01, val_split=0.98, test_split=0.01, batch_size=32)\n",
    "data = dataset[0]"
   ]
  },
  {
   "cell_type": "code",
   "execution_count": 60,
   "metadata": {},
   "outputs": [],
   "source": [
    "class PAINNMessage(MessagePassing):\n",
    "    def __init__(self):\n",
    "        super().__init__(aggr='sum')\n",
    "        \n",
    "        self.embedding = Embedding(118,8)\n",
    "        \n",
    "        self.act = SiLU()\n",
    "        \n",
    "        self.linear_1 = Linear(8,8)\n",
    "        self.linear_2 = Linear(20,24)\n",
    "        self.linear_3 = Linear(8,24)\n",
    "        \n",
    "    def forward(self, data):\n",
    "        # get relevant parts from data\n",
    "        num_nodes = data.num_nodes\n",
    "        unit_edge_vec = data.unit_edge_vec\n",
    "        edge_index = data.edge_index\n",
    "        edge_vec_length = data.edge_vec_length\n",
    "        \n",
    "        v = torch.zeros((num_nodes,8,3)) # initialize equivariant feature vector\n",
    "        s = self.embedding(data.z) # initialize invariant feature vector\n",
    "        \n",
    "        # concatenate feature vectors\n",
    "        x = torch.cat((v.view(num_nodes,-1), s), dim=1)\n",
    "        \n",
    "        x = self.propagate(edge_index=edge_index, x=x, edge_attr1=unit_edge_vec, edge_attr2=edge_vec_length)\n",
    "        \n",
    "        return x\n",
    "        \n",
    "    def message(self, x_j, unit_edge_vec, edge_vec_length, edge_attr1, edge_attr2):\n",
    "        v_j = x_j[:,:int(x_j.shape[1] * 0.75)]\n",
    "        s_j = x_j[:,int(x_j.shape[1] * 0.75):]\n",
    "        \n",
    "        s_j = self.linear_1(s_j)\n",
    "        s_j = self.act(s_j)\n",
    "        s_j = self.linear_3(s_j)\n",
    "        \n",
    "        unit_edge_vec = edge_attr1\n",
    "        edge_vec_length = edge_attr2.view(-1,1)\n",
    "        \n",
    "        edge_vec = bessel_rbf(x=edge_vec_length, n=20, r_cut=1.4415) * cosine_cutoff(x=edge_vec_length, r_cut=1.4415)\n",
    "        edge_vec = self.linear_2(edge_vec)\n",
    "        \n",
    "        split = s_j * edge_vec\n",
    "        even_third = int(split.shape[1]/3)\n",
    "        split_1 = split[:, :even_third]\n",
    "        split_2 = split[:, even_third:-even_third]\n",
    "        split_3 = split[:, -even_third:]\n",
    "        \n",
    "        split_1.unsqueeze_(dim=2)\n",
    "        \n",
    "        v_j = v_j.view(-1,8,3)\n",
    "        v_j = v_j * split_1\n",
    "        \n",
    "        v_j += torch.einsum('ni,nj->nij', split_3, unit_edge_vec)\n",
    "        \n",
    "        s_j = split_2\n",
    "        \n",
    "        out = torch.cat((v_j.view(v_j.size(0), -1), s_j), dim=1)\n",
    "        \n",
    "        return out\n",
    "        \n",
    "    def update(self, aggr_out, x):\n",
    "        x += aggr_out\n",
    "        \n",
    "        return x"
   ]
  },
  {
   "cell_type": "code",
   "execution_count": 61,
   "metadata": {},
   "outputs": [],
   "source": [
    "model = PAINNBlock()"
   ]
  },
  {
   "cell_type": "code",
   "execution_count": 62,
   "metadata": {},
   "outputs": [
    {
     "name": "stderr",
     "output_type": "stream",
     "text": [
      "/usr/local/Caskroom/miniconda/base/envs/GDL/lib/python3.11/site-packages/torch_geometric/data/dataset.py:239: UserWarning: The `pre_transform` argument differs from the one used in the pre-processed version of this dataset. If you want to make use of another pre-processing technique, pass `force_reload=True` explicitly to reload the dataset.\n",
      "  warnings.warn(\n"
     ]
    },
    {
     "ename": "AttributeError",
     "evalue": "'GlobalStorage' object has no attribute 'unit_edge_vec'",
     "output_type": "error",
     "traceback": [
      "\u001b[0;31m---------------------------------------------------------------------------\u001b[0m",
      "\u001b[0;31mAttributeError\u001b[0m                            Traceback (most recent call last)",
      "Cell \u001b[0;32mIn[62], line 1\u001b[0m\n\u001b[0;32m----> 1\u001b[0m \u001b[43msanity_check\u001b[49m\u001b[43m(\u001b[49m\u001b[43mmodel\u001b[49m\u001b[38;5;241;43m=\u001b[39;49m\u001b[43mmodel\u001b[49m\u001b[43m)\u001b[49m\n",
      "File \u001b[0;32m~/Documents/Gerstein Lab/EGNN Pro/src/model/model_utils.py:55\u001b[0m, in \u001b[0;36msanity_check\u001b[0;34m(model, rho, num_items, batch_size, num_epochs)\u001b[0m\n\u001b[1;32m     52\u001b[0m F \u001b[38;5;241m=\u001b[39m data\u001b[38;5;241m.\u001b[39mforce\n\u001b[1;32m     54\u001b[0m \u001b[38;5;66;03m# predictions from the model\u001b[39;00m\n\u001b[0;32m---> 55\u001b[0m E_hat, F_hat \u001b[38;5;241m=\u001b[39m \u001b[43mmodel\u001b[49m\u001b[43m(\u001b[49m\u001b[43mdata\u001b[49m\u001b[43m)\u001b[49m\n\u001b[1;32m     56\u001b[0m E_hat\u001b[38;5;241m.\u001b[39msqueeze_(dim\u001b[38;5;241m=\u001b[39m\u001b[38;5;241m1\u001b[39m)\n\u001b[1;32m     58\u001b[0m \u001b[38;5;66;03m# squared error for energy loss\u001b[39;00m\n",
      "File \u001b[0;32m/usr/local/Caskroom/miniconda/base/envs/GDL/lib/python3.11/site-packages/torch/nn/modules/module.py:1518\u001b[0m, in \u001b[0;36mModule._wrapped_call_impl\u001b[0;34m(self, *args, **kwargs)\u001b[0m\n\u001b[1;32m   1516\u001b[0m     \u001b[38;5;28;01mreturn\u001b[39;00m \u001b[38;5;28mself\u001b[39m\u001b[38;5;241m.\u001b[39m_compiled_call_impl(\u001b[38;5;241m*\u001b[39margs, \u001b[38;5;241m*\u001b[39m\u001b[38;5;241m*\u001b[39mkwargs)  \u001b[38;5;66;03m# type: ignore[misc]\u001b[39;00m\n\u001b[1;32m   1517\u001b[0m \u001b[38;5;28;01melse\u001b[39;00m:\n\u001b[0;32m-> 1518\u001b[0m     \u001b[38;5;28;01mreturn\u001b[39;00m \u001b[38;5;28;43mself\u001b[39;49m\u001b[38;5;241;43m.\u001b[39;49m\u001b[43m_call_impl\u001b[49m\u001b[43m(\u001b[49m\u001b[38;5;241;43m*\u001b[39;49m\u001b[43margs\u001b[49m\u001b[43m,\u001b[49m\u001b[43m \u001b[49m\u001b[38;5;241;43m*\u001b[39;49m\u001b[38;5;241;43m*\u001b[39;49m\u001b[43mkwargs\u001b[49m\u001b[43m)\u001b[49m\n",
      "File \u001b[0;32m/usr/local/Caskroom/miniconda/base/envs/GDL/lib/python3.11/site-packages/torch/nn/modules/module.py:1527\u001b[0m, in \u001b[0;36mModule._call_impl\u001b[0;34m(self, *args, **kwargs)\u001b[0m\n\u001b[1;32m   1522\u001b[0m \u001b[38;5;66;03m# If we don't have any hooks, we want to skip the rest of the logic in\u001b[39;00m\n\u001b[1;32m   1523\u001b[0m \u001b[38;5;66;03m# this function, and just call forward.\u001b[39;00m\n\u001b[1;32m   1524\u001b[0m \u001b[38;5;28;01mif\u001b[39;00m \u001b[38;5;129;01mnot\u001b[39;00m (\u001b[38;5;28mself\u001b[39m\u001b[38;5;241m.\u001b[39m_backward_hooks \u001b[38;5;129;01mor\u001b[39;00m \u001b[38;5;28mself\u001b[39m\u001b[38;5;241m.\u001b[39m_backward_pre_hooks \u001b[38;5;129;01mor\u001b[39;00m \u001b[38;5;28mself\u001b[39m\u001b[38;5;241m.\u001b[39m_forward_hooks \u001b[38;5;129;01mor\u001b[39;00m \u001b[38;5;28mself\u001b[39m\u001b[38;5;241m.\u001b[39m_forward_pre_hooks\n\u001b[1;32m   1525\u001b[0m         \u001b[38;5;129;01mor\u001b[39;00m _global_backward_pre_hooks \u001b[38;5;129;01mor\u001b[39;00m _global_backward_hooks\n\u001b[1;32m   1526\u001b[0m         \u001b[38;5;129;01mor\u001b[39;00m _global_forward_hooks \u001b[38;5;129;01mor\u001b[39;00m _global_forward_pre_hooks):\n\u001b[0;32m-> 1527\u001b[0m     \u001b[38;5;28;01mreturn\u001b[39;00m \u001b[43mforward_call\u001b[49m\u001b[43m(\u001b[49m\u001b[38;5;241;43m*\u001b[39;49m\u001b[43margs\u001b[49m\u001b[43m,\u001b[49m\u001b[43m \u001b[49m\u001b[38;5;241;43m*\u001b[39;49m\u001b[38;5;241;43m*\u001b[39;49m\u001b[43mkwargs\u001b[49m\u001b[43m)\u001b[49m\n\u001b[1;32m   1529\u001b[0m \u001b[38;5;28;01mtry\u001b[39;00m:\n\u001b[1;32m   1530\u001b[0m     result \u001b[38;5;241m=\u001b[39m \u001b[38;5;28;01mNone\u001b[39;00m\n",
      "Cell \u001b[0;32mIn[60], line 16\u001b[0m, in \u001b[0;36mPAINNBlock.forward\u001b[0;34m(self, data)\u001b[0m\n\u001b[1;32m     13\u001b[0m \u001b[38;5;28;01mdef\u001b[39;00m \u001b[38;5;21mforward\u001b[39m(\u001b[38;5;28mself\u001b[39m, data):\n\u001b[1;32m     14\u001b[0m     \u001b[38;5;66;03m# get relevant parts from data\u001b[39;00m\n\u001b[1;32m     15\u001b[0m     num_nodes \u001b[38;5;241m=\u001b[39m data\u001b[38;5;241m.\u001b[39mnum_nodes\n\u001b[0;32m---> 16\u001b[0m     unit_edge_vec \u001b[38;5;241m=\u001b[39m \u001b[43mdata\u001b[49m\u001b[38;5;241;43m.\u001b[39;49m\u001b[43munit_edge_vec\u001b[49m\n\u001b[1;32m     17\u001b[0m     edge_index \u001b[38;5;241m=\u001b[39m data\u001b[38;5;241m.\u001b[39medge_index\n\u001b[1;32m     18\u001b[0m     edge_vec_length \u001b[38;5;241m=\u001b[39m data\u001b[38;5;241m.\u001b[39medge_vec_length\n",
      "File \u001b[0;32m/usr/local/Caskroom/miniconda/base/envs/GDL/lib/python3.11/site-packages/torch_geometric/data/data.py:559\u001b[0m, in \u001b[0;36mData.__getattr__\u001b[0;34m(self, key)\u001b[0m\n\u001b[1;32m    553\u001b[0m \u001b[38;5;28;01mif\u001b[39;00m \u001b[38;5;124m'\u001b[39m\u001b[38;5;124m_store\u001b[39m\u001b[38;5;124m'\u001b[39m \u001b[38;5;129;01mnot\u001b[39;00m \u001b[38;5;129;01min\u001b[39;00m \u001b[38;5;28mself\u001b[39m\u001b[38;5;241m.\u001b[39m\u001b[38;5;18m__dict__\u001b[39m:\n\u001b[1;32m    554\u001b[0m     \u001b[38;5;28;01mraise\u001b[39;00m \u001b[38;5;167;01mRuntimeError\u001b[39;00m(\n\u001b[1;32m    555\u001b[0m         \u001b[38;5;124m\"\u001b[39m\u001b[38;5;124mThe \u001b[39m\u001b[38;5;124m'\u001b[39m\u001b[38;5;124mdata\u001b[39m\u001b[38;5;124m'\u001b[39m\u001b[38;5;124m object was created by an older version of PyG. \u001b[39m\u001b[38;5;124m\"\u001b[39m\n\u001b[1;32m    556\u001b[0m         \u001b[38;5;124m\"\u001b[39m\u001b[38;5;124mIf this error occurred while loading an already existing \u001b[39m\u001b[38;5;124m\"\u001b[39m\n\u001b[1;32m    557\u001b[0m         \u001b[38;5;124m\"\u001b[39m\u001b[38;5;124mdataset, remove the \u001b[39m\u001b[38;5;124m'\u001b[39m\u001b[38;5;124mprocessed/\u001b[39m\u001b[38;5;124m'\u001b[39m\u001b[38;5;124m directory in the dataset\u001b[39m\u001b[38;5;124m'\u001b[39m\u001b[38;5;124ms \u001b[39m\u001b[38;5;124m\"\u001b[39m\n\u001b[1;32m    558\u001b[0m         \u001b[38;5;124m\"\u001b[39m\u001b[38;5;124mroot folder and try again.\u001b[39m\u001b[38;5;124m\"\u001b[39m)\n\u001b[0;32m--> 559\u001b[0m \u001b[38;5;28;01mreturn\u001b[39;00m \u001b[38;5;28mgetattr\u001b[39m(\u001b[38;5;28mself\u001b[39m\u001b[38;5;241m.\u001b[39m_store, key)\n",
      "File \u001b[0;32m/usr/local/Caskroom/miniconda/base/envs/GDL/lib/python3.11/site-packages/torch_geometric/data/storage.py:96\u001b[0m, in \u001b[0;36mBaseStorage.__getattr__\u001b[0;34m(self, key)\u001b[0m\n\u001b[1;32m     94\u001b[0m     \u001b[38;5;28;01mreturn\u001b[39;00m \u001b[38;5;28mself\u001b[39m[key]\n\u001b[1;32m     95\u001b[0m \u001b[38;5;28;01mexcept\u001b[39;00m \u001b[38;5;167;01mKeyError\u001b[39;00m:\n\u001b[0;32m---> 96\u001b[0m     \u001b[38;5;28;01mraise\u001b[39;00m \u001b[38;5;167;01mAttributeError\u001b[39;00m(\n\u001b[1;32m     97\u001b[0m         \u001b[38;5;124mf\u001b[39m\u001b[38;5;124m\"\u001b[39m\u001b[38;5;124m'\u001b[39m\u001b[38;5;132;01m{\u001b[39;00m\u001b[38;5;28mself\u001b[39m\u001b[38;5;241m.\u001b[39m\u001b[38;5;18m__class__\u001b[39m\u001b[38;5;241m.\u001b[39m\u001b[38;5;18m__name__\u001b[39m\u001b[38;5;132;01m}\u001b[39;00m\u001b[38;5;124m'\u001b[39m\u001b[38;5;124m object has no attribute \u001b[39m\u001b[38;5;124m'\u001b[39m\u001b[38;5;132;01m{\u001b[39;00mkey\u001b[38;5;132;01m}\u001b[39;00m\u001b[38;5;124m'\u001b[39m\u001b[38;5;124m\"\u001b[39m\n\u001b[1;32m     98\u001b[0m     ) \u001b[38;5;28;01mfrom\u001b[39;00m \u001b[38;5;28;01mNone\u001b[39;00m\n",
      "\u001b[0;31mAttributeError\u001b[0m: 'GlobalStorage' object has no attribute 'unit_edge_vec'"
     ]
    }
   ],
   "source": [
    "sanity_check(model=model)"
   ]
  },
  {
   "cell_type": "code",
   "execution_count": null,
   "metadata": {},
   "outputs": [],
   "source": [
    "class PAINNUpdate(MessagePassing):\n",
    "    def __init__(self):\n",
    "        super().__init__()\n",
    "        \n",
    "        self.act = SiLU()\n",
    "        \n",
    "        self.U = Linear(128,128,bias=False)\n",
    "        self.V = Linear(128,128,bias=False)\n",
    "        \n",
    "        self.linear_1 = Linear(256,128)\n",
    "        self.linear_2 = Linear(128,384)\n",
    "    \n",
    "    def forward(self, x, edge_index):\n",
    "        x = self.propagate(edge_index=edge_index, x=x)\n",
    "        \n",
    "        return x\n",
    "        \n",
    "    def message(self, x_j):\n",
    "        v_j = x_j[:,:int(x_j.shape[1] * 0.75)]\n",
    "        s_j = x_j[:,int(x_j.shape[1] * 0.75):]\n",
    "        \n",
    "        v = self.U(v)\n",
    "        v_V = self.V(v)\n",
    "        \n",
    "        stack_in = torch.norm(v_V, p=2, dim=1)\n",
    "        \n",
    "        stack = torch.cat((stack_in, s_j), dim=1)\n",
    "        s_j = self.linear_1(stack)\n",
    "        s_j = self.act(s_j)\n",
    "        split = self.linear_2(s_j)\n",
    "        \n",
    "        even_third = int(split.shape[1]/3)\n",
    "        split_1 = split[:,:even_third]    \n",
    "        split_2 = split[:,even_third:-even_third]\n",
    "        split_3 = split[:,-even_third:]\n",
    "    \n",
    "    def update(self, aggr_out, x):\n",
    "        x += aggr_out\n",
    "    \n",
    "        return x"
   ]
  },
  {
   "cell_type": "code",
   "execution_count": null,
   "metadata": {},
   "outputs": [],
   "source": [
    "class PAINN(Module):\n",
    "    def __init__():\n",
    "        super().__init__()\n",
    "        \n",
    "        self.embedding = Embedding(118,128)\n",
    "        self.block_1 = PAINNBlock()\n",
    "        self.block_2 = PAINNBlock()\n",
    "        self.block_3 = PAINNBlock()\n",
    "        self.prediction = PAINNPrediction()\n",
    "    \n",
    "    def forward(self, data):\n",
    "        edge_index = data.edge_index\n",
    "        pos = data.pos\n",
    "        pos.requires_grad_(True)\n",
    "        \n",
    "        v = torch.zeros(data.num_nodes, 128, 3)\n",
    "        s = self.embedding(data)\n",
    "        \n",
    "        x = torch.cat((v.view(v.size(0), -1), s), dim=1)\n",
    "        \n",
    "        x = self.block_1(x=x, edge_index, ) # IMPLEMENT EDGE ATTRIBUTES\n",
    "        x = self.block_2(x=x, edge_index, )\n",
    "        x = self.block_2(x=x, edge_index, )\n",
    "        \n",
    "        F_hat, E_hat = self.prediction(x)\n",
    "        \n",
    "        return F_hat, E_hat"
   ]
  }
 ],
 "metadata": {
  "kernelspec": {
   "display_name": "GDL",
   "language": "python",
   "name": "python3"
  },
  "language_info": {
   "codemirror_mode": {
    "name": "ipython",
    "version": 3
   },
   "file_extension": ".py",
   "mimetype": "text/x-python",
   "name": "python",
   "nbconvert_exporter": "python",
   "pygments_lexer": "ipython3",
   "version": "3.11.9"
  }
 },
 "nbformat": 4,
 "nbformat_minor": 2
}
