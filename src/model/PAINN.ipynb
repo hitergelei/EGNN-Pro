{
 "cells": [
  {
   "cell_type": "code",
   "execution_count": 1,
   "metadata": {},
   "outputs": [],
   "source": [
    "import torch, sys, os\n",
    "from torch.nn import Module, Linear, SiLU\n",
    "from torch_geometric.nn.conv import MessagePassing\n",
    "from torch_geometric.nn import global_add_pool\n",
    "sys.path.append(os.path.abspath('/Users/samharshe/Documents/Gerstein Lab/EGNN Pro/src/data/get'))\n",
    "from data_get_utils import get_dataset\n",
    "from model_utils import bessel_rbf"
   ]
  },
  {
   "cell_type": "code",
   "execution_count": 3,
   "metadata": {},
   "outputs": [
    {
     "name": "stderr",
     "output_type": "stream",
     "text": [
      "/usr/local/Caskroom/miniconda/base/envs/GDL/lib/python3.11/site-packages/torch_geometric/data/dataset.py:239: UserWarning: The `pre_transform` argument differs from the one used in the pre-processed version of this dataset. If you want to make use of another pre-processing technique, pass `force_reload=True` explicitly to reload the dataset.\n",
      "  warnings.warn(\n"
     ]
    }
   ],
   "source": [
    "benzene = get_dataset(version='charizard', molecule='benzene')\n",
    "aspirin = get_dataset(version='charizard', molecule='aspirin')\n",
    "uracil = get_dataset(version='charizard', molecule='uracil')"
   ]
  },
  {
   "cell_type": "code",
   "execution_count": 9,
   "metadata": {},
   "outputs": [
    {
     "name": "stdout",
     "output_type": "stream",
     "text": [
      "tensor(1.4170)\n",
      "tensor(1.1886)\n",
      "tensor(1.4415)\n"
     ]
    }
   ],
   "source": [
    "print(max(benzene[:].edge_vec_length))\n",
    "print(max(aspirin[:].edge_vec_length))\n",
    "print(max(uracil[:].edge_vec_length))"
   ]
  },
  {
   "cell_type": "code",
   "execution_count": 31,
   "metadata": {},
   "outputs": [],
   "source": [
    "class PAINNMessage(MessagePassing):\n",
    "   def __init__():\n",
    "        super(aggr='sum').__init__()\n",
    "        \n",
    "        self.act = SiLU()\n",
    "        \n",
    "        self.linear_1 = Linear(128, 128)\n",
    "        self.linear_2 = Linear(20, 384)\n",
    "        self.linear_3 = Linear(128, 384)\n",
    "        \n",
    "    def forward(self, data):\n",
    "        data = self.propagate(edge_index=data.edge_index , x=data, edge_vectors=data.edge_vectors, edge_vectors_length=data.edge_vectors_length, unit_edge_vectors=data.unit_edge_vectors])\n",
    "        \n",
    "        return data\n",
    "        \n",
    "    def message(self, x_j, edge_attr, edge_vectors, edge_vectors_length, unit_edge_vectors):\n",
    "        s_j = x_j.s_j\n",
    "        v_j = x_j.v_j\n",
    "        \n",
    "        edge_vec = data.edge_vec\n",
    "        edge_vec_length = data.edge_vec_length\n",
    "        unit_edge_vec = data.unit_edge_vec\n",
    "        \n",
    "        rbf = bessel_rbf(x=edge_vec_length, n=20, r_cut=1.4415)\n",
    "        \n",
    "        s_j = self.linear_1(s_j)\n",
    "        s_j = self.act(s_j)\n",
    "        phi = self.linear_3(s_j)\n",
    "        \n",
    "        edge_attr = edge_attr\n",
    "        rbf = rbf(edge_attr) # IMPLEMENT\n",
    "        W = self.linear_2(edge_attr)\n",
    "        \n",
    "        split = phi * W\n",
    "        split_1 = split[:128]\n",
    "        split_2 = split[128:256]\n",
    "        split_3 = split[256:]\n",
    "        \n",
    "        split_3 = split_3.view(128, 1) * r_hat_ij\n",
    "        \n",
    "        v_j = split_1 * v_j\n",
    "        v_j = v_j + split_3\n",
    "        s_j = split_2\n",
    "        \n",
    "        return v_j, s_j\n",
    "\n",
    "    def update(self, aggr_out, x):\n",
    "        x.v_i = x.v_i + aggr_out[0]\n",
    "        x.s_i = x.s_i + aggr_out[1]\n",
    "        \n",
    "        return x"
   ]
  }
 ],
 "metadata": {
  "kernelspec": {
   "display_name": "GDL",
   "language": "python",
   "name": "python3"
  },
  "language_info": {
   "codemirror_mode": {
    "name": "ipython",
    "version": 3
   },
   "file_extension": ".py",
   "mimetype": "text/x-python",
   "name": "python",
   "nbconvert_exporter": "python",
   "pygments_lexer": "ipython3",
   "version": "3.11.9"
  }
 },
 "nbformat": 4,
 "nbformat_minor": 2
}
